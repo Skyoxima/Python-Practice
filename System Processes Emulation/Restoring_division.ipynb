{
 "cells": [
  {
   "cell_type": "markdown",
   "metadata": {},
   "source": [
    "<h1 align = center><b><span style = \"color: #9ea3f5\">Restoring Division</span> Algorithm<br>for <u>Unsigned</u> Binary Numbers</b></h1>"
   ]
  },
  {
   "cell_type": "markdown",
   "metadata": {},
   "source": [
    "<h3>Importing necessary modules</h3>"
   ]
  },
  {
   "cell_type": "code",
   "execution_count": 66,
   "metadata": {},
   "outputs": [],
   "source": [
    "from prettytable import PrettyTable"
   ]
  },
  {
   "cell_type": "markdown",
   "metadata": {},
   "source": [
    "<h3>Taking Input</h3>"
   ]
  },
  {
   "cell_type": "code",
   "execution_count": 67,
   "metadata": {},
   "outputs": [],
   "source": [
    "def take_input():\n",
    "    dvnd = int(input(\"Enter the Dividend: \"))\n",
    "    dvsr = int(input(\"Enter the Divisor: \"))\n",
    "\n",
    "    return dvnd, dvsr"
   ]
  },
  {
   "cell_type": "markdown",
   "metadata": {},
   "source": [
    "<h3>Decimal to Binary Converter</h3>"
   ]
  },
  {
   "cell_type": "code",
   "execution_count": 68,
   "metadata": {},
   "outputs": [],
   "source": [
    "def to_binary(*dec_number):\n",
    "    bin_master_list = []\n",
    "    def mechanism(dec_number):\n",
    "        if(dec_number >= 1):\n",
    "            mechanism(dec_number // 2)\n",
    "            bin_num.append(dec_number % 2)\n",
    "        \n",
    "    for i in dec_number:\n",
    "        bin_num = []\n",
    "        mechanism(i)\n",
    "        bin_master_list.append(bin_num)\n",
    "\n",
    "    return bin_master_list "
   ]
  },
  {
   "cell_type": "markdown",
   "metadata": {},
   "source": [
    "<h3>Divisor Bit Adjuster</h3>"
   ]
  },
  {
   "cell_type": "code",
   "execution_count": 69,
   "metadata": {},
   "outputs": [],
   "source": [
    "def static_bit_adjuster(bin_dvnd, bin_dvsr):\n",
    "    l1 = len(bin_dvnd)\n",
    "    l2 = len(bin_dvsr)\n",
    "\n",
    "    for i in range(l2, l1 + 1):\n",
    "        bin_dvsr.insert(0, 0)"
   ]
  },
  {
   "cell_type": "markdown",
   "metadata": {},
   "source": [
    "<h3>One's Complementer</h3>"
   ]
  },
  {
   "cell_type": "code",
   "execution_count": 70,
   "metadata": {},
   "outputs": [],
   "source": [
    "def ones_complement(binary_num_list):\n",
    "    for i in range(0, len(binary_num_list)):\n",
    "        if binary_num_list[i] == 0:\n",
    "            binary_num_list[i] = 1\n",
    "        else:\n",
    "            binary_num_list[i] = 0"
   ]
  },
  {
   "cell_type": "markdown",
   "metadata": {},
   "source": [
    "<h3>Binary Additioner</h3>"
   ]
  },
  {
   "cell_type": "code",
   "execution_count": 71,
   "metadata": {},
   "outputs": [],
   "source": [
    "def binary_add(list1, list2):\n",
    "    carry = 0\n",
    "\n",
    "    for i in range(len(list1) - 1, -1, -1): #reverse traversal\n",
    "        if(carry == 0):\n",
    "            if(list1[i] == 0 and list2[i] == 0):\n",
    "                list1[i] = 0\n",
    "            elif(list1[i] == 0 and list2[i] == 1):\n",
    "                list1[i] = 1\n",
    "            elif(list1[i] == 1 and list2[i] == 0):\n",
    "                list1[i] = 1\n",
    "            elif(list1[i] == 1 and list2[i] == 1):\n",
    "                list1[i] = 0\n",
    "                carry = 1   #! Quite important\n",
    "                \n",
    "        elif(carry == 1):\n",
    "            if(list1[i] == 0 and list2[i] == 0):\n",
    "                list1[i] = 1\n",
    "                carry = 0\n",
    "\n",
    "            elif(list1[i] == 0 and list2[i] == 1):\n",
    "                list1[i] = 0\n",
    "                carry = 1\n",
    "\n",
    "            elif(list1[i] == 1 and list2[i] == 0):\n",
    "                list1[i] = 0\n",
    "                carry = 1\n",
    "\n",
    "            elif(list1[1] == 1 and list2[i] == 1):\n",
    "                list1[i] = 1\n",
    "                carry = 1 #! Quite important"
   ]
  },
  {
   "cell_type": "markdown",
   "metadata": {},
   "source": [
    "<h3>Two's Complementer</h3>"
   ]
  },
  {
   "cell_type": "code",
   "execution_count": 72,
   "metadata": {},
   "outputs": [],
   "source": [
    "def twos_complement(list1):\n",
    "    one = [1]\n",
    "    for i in range(0, len(list1)-1):\n",
    "        one.insert(0, 0)\n",
    "    \n",
    "    ones_complement(list1)\n",
    "    binary_add(list1, one)"
   ]
  },
  {
   "cell_type": "markdown",
   "metadata": {},
   "source": [
    "<h3>Arithmetic Left Shifter</h3>"
   ]
  },
  {
   "cell_type": "code",
   "execution_count": 73,
   "metadata": {},
   "outputs": [],
   "source": [
    "#here in RD, lists (A and Q) will not have equal lengths, therfore 2 separate for loops\n",
    "def ar_left_shift(list1, list2):\n",
    "    l1 = len(list1)\n",
    "    l2 = len(list2)\n",
    "    temp1 = list1.copy()\n",
    "    temp2 = list2.copy()\n",
    "\n",
    "    temp_bit = list2[0]\n",
    "    for i in range(l2 - 2, -1, -1):\n",
    "        list2[i] = temp2[i + 1]\n",
    "    \n",
    "    list2[-1] = None\n",
    "    list1[-1] = temp_bit\n",
    "    for i in range(l1 - 2, -1, -1):\n",
    "        list1[i] = temp1[i + 1]"
   ]
  },
  {
   "cell_type": "markdown",
   "metadata": {},
   "source": [
    "<h3>List to String Converter</h3>"
   ]
  },
  {
   "cell_type": "code",
   "execution_count": 74,
   "metadata": {},
   "outputs": [],
   "source": [
    "def list_to_string(list1):\n",
    "    string = \"\"\n",
    "    for i in list1:\n",
    "        if i == None:\n",
    "            string += '_'\n",
    "        else:\n",
    "            string += str(i)\n",
    "    \n",
    "    return string"
   ]
  },
  {
   "cell_type": "markdown",
   "metadata": {},
   "source": [
    "<h3>Binary to Decimal Converter</h3>"
   ]
  },
  {
   "cell_type": "code",
   "execution_count": 75,
   "metadata": {},
   "outputs": [],
   "source": [
    "def to_decimal(Q, A):\n",
    "    expo = 0\n",
    "    dec_quotient = 0\n",
    "    dec_remainder = 0\n",
    "\n",
    "    for i in range(len(Q) - 1, -1, -1):\n",
    "        if Q[i] == 1:\n",
    "            dec_quotient += 2**expo\n",
    "        expo += 1\n",
    "    \n",
    "    expo = 0\n",
    "    for i in range(len(A) - 1, -1, -1):\n",
    "        if A[i] == 1:\n",
    "            dec_remainder += 2**expo\n",
    "        expo += 1\n",
    "    \n",
    "    return dec_quotient, dec_remainder"
   ]
  },
  {
   "cell_type": "markdown",
   "metadata": {},
   "source": [
    "<h3>'Main' Restoring Division</h3>"
   ]
  },
  {
   "cell_type": "code",
   "execution_count": 76,
   "metadata": {},
   "outputs": [],
   "source": [
    "def restoring_division():\n",
    "    #*taking user input\n",
    "    dvnd, dvsr = take_input()\n",
    "\n",
    "    #*preconditions\n",
    "    if dvsr == 0:\n",
    "        print(\"{} / {} is undefined! Cannot divide by Zero!\".format(dvnd, dvsr))\n",
    "        return \n",
    "    if dvnd == 0:\n",
    "        print(\"{} / {} = {}\".format(dvnd, dvsr, 0))\n",
    "        return \n",
    "\n",
    "    #*preparing binary number list from decimal input\n",
    "    binaries = to_binary(dvnd, dvsr)\n",
    "    bin_dvnd = binaries[0] ; bin_dvsr = binaries[1]\n",
    "\n",
    "    #*Bit adjustments\n",
    "    static_bit_adjuster(bin_dvnd, bin_dvsr)\n",
    "\n",
    "    #*main algorithm preparations\n",
    "    Q = bin_dvnd.copy()\n",
    "    M = bin_dvsr.copy()\n",
    "    A = [0 for i in range(0, len(M))]\n",
    "    count = len(Q)\n",
    "    twos_complement(M)\n",
    "    minus_M = M.copy()\n",
    "    twos_complement(M)\n",
    "\n",
    "    #*table preparation\n",
    "    table = PrettyTable([\"A\", \"Q\", \"M\", \"Count\", \"Operation\"])\n",
    "    final_table = [[list_to_string(A), list_to_string(Q), list_to_string(M), count, \"Start\"]]\n",
    "\n",
    "    #*steps of the algorithm\n",
    "    while count > 0:\n",
    "        ar_left_shift(A, Q)\n",
    "        final_table.append([list_to_string(A), list_to_string(Q), list_to_string(M), count, \"Arithmetic Left Shift\"])\n",
    "        binary_add(A, minus_M)\n",
    "        final_table.append([list_to_string(A), list_to_string(Q), list_to_string(M), count, \"A = A - M\"])\n",
    "\n",
    "        if A[0] == 1:\n",
    "            Q[-1] = 0\n",
    "            final_table.append([list_to_string(A), list_to_string(Q), list_to_string(M), count, \"MSB[A] = 1, Q_0 = 0\"])\n",
    "            binary_add(A, M) #! Restoration of A\n",
    "            final_table.append([list_to_string(A), list_to_string(Q), list_to_string(M), count, \"(Restore A), A = A + M\"])\n",
    "        elif A[0] == 0:\n",
    "            Q[-1] = 1\n",
    "            final_table.append([list_to_string(A), list_to_string(Q), list_to_string(M), count, \"MSB[A] = 0, Q_0 = 1\"])\n",
    "\n",
    "        count -= 1\n",
    "        \n",
    "    final_table.append(['', '', '', '', \"Finish\"])\n",
    "    table.add_rows(final_table)\n",
    "    print(table)\n",
    "\n",
    "    #getting final answer in decimal\n",
    "    res = to_decimal(Q, A)\n",
    "    print(\"For {} / {}:\\nQuotient = {} ; Remainder = {}\".format(dvnd, dvsr, res[0], res[1]))"
   ]
  },
  {
   "cell_type": "markdown",
   "metadata": {},
   "source": [
    "<h3>Callers</h3>"
   ]
  },
  {
   "cell_type": "code",
   "execution_count": 77,
   "metadata": {},
   "outputs": [
    {
     "name": "stdout",
     "output_type": "stream",
     "text": [
      "+------+-----+------+-------+------------------------+\n",
      "|  A   |  Q  |  M   | Count |       Operation        |\n",
      "+------+-----+------+-------+------------------------+\n",
      "| 0000 | 111 | 0100 |   3   |         Start          |\n",
      "| 0001 | 11_ | 0100 |   3   | Arithmetic Left Shift  |\n",
      "| 1101 | 11_ | 0100 |   3   |       A = A - M        |\n",
      "| 1101 | 110 | 0100 |   3   |  MSB[A] = 1, Q_0 = 0   |\n",
      "| 0001 | 110 | 0100 |   3   | (Restore A), A = A + M |\n",
      "| 0011 | 10_ | 0100 |   2   | Arithmetic Left Shift  |\n",
      "| 1111 | 10_ | 0100 |   2   |       A = A - M        |\n",
      "| 1111 | 100 | 0100 |   2   |  MSB[A] = 1, Q_0 = 0   |\n",
      "| 0011 | 100 | 0100 |   2   | (Restore A), A = A + M |\n",
      "| 0111 | 00_ | 0100 |   1   | Arithmetic Left Shift  |\n",
      "| 0011 | 00_ | 0100 |   1   |       A = A - M        |\n",
      "| 0011 | 001 | 0100 |   1   |  MSB[A] = 0, Q_0 = 1   |\n",
      "|      |     |      |       |         Finish         |\n",
      "+------+-----+------+-------+------------------------+\n",
      "For 7 / 4:\n",
      "Quotient = 1 ; Remainder = 3\n"
     ]
    }
   ],
   "source": [
    "restoring_division()"
   ]
  },
  {
   "cell_type": "code",
   "execution_count": 78,
   "metadata": {},
   "outputs": [
    {
     "name": "stdout",
     "output_type": "stream",
     "text": [
      "+--------+-------+--------+-------+------------------------+\n",
      "|   A    |   Q   |   M    | Count |       Operation        |\n",
      "+--------+-------+--------+-------+------------------------+\n",
      "| 000000 | 10001 | 000011 |   5   |         Start          |\n",
      "| 000001 | 0001_ | 000011 |   5   | Arithmetic Left Shift  |\n",
      "| 111110 | 0001_ | 000011 |   5   |       A = A - M        |\n",
      "| 111110 | 00010 | 000011 |   5   |  MSB[A] = 1, Q_0 = 0   |\n",
      "| 000001 | 00010 | 000011 |   5   | (Restore A), A = A + M |\n",
      "| 000010 | 0010_ | 000011 |   4   | Arithmetic Left Shift  |\n",
      "| 111111 | 0010_ | 000011 |   4   |       A = A - M        |\n",
      "| 111111 | 00100 | 000011 |   4   |  MSB[A] = 1, Q_0 = 0   |\n",
      "| 000010 | 00100 | 000011 |   4   | (Restore A), A = A + M |\n",
      "| 000100 | 0100_ | 000011 |   3   | Arithmetic Left Shift  |\n",
      "| 000001 | 0100_ | 000011 |   3   |       A = A - M        |\n",
      "| 000001 | 01001 | 000011 |   3   |  MSB[A] = 0, Q_0 = 1   |\n",
      "| 000010 | 1001_ | 000011 |   2   | Arithmetic Left Shift  |\n",
      "| 111111 | 1001_ | 000011 |   2   |       A = A - M        |\n",
      "| 111111 | 10010 | 000011 |   2   |  MSB[A] = 1, Q_0 = 0   |\n",
      "| 000010 | 10010 | 000011 |   2   | (Restore A), A = A + M |\n",
      "| 000101 | 0010_ | 000011 |   1   | Arithmetic Left Shift  |\n",
      "| 000010 | 0010_ | 000011 |   1   |       A = A - M        |\n",
      "| 000010 | 00101 | 000011 |   1   |  MSB[A] = 0, Q_0 = 1   |\n",
      "|        |       |        |       |         Finish         |\n",
      "+--------+-------+--------+-------+------------------------+\n",
      "For 17 / 3:\n",
      "Quotient = 5 ; Remainder = 2\n"
     ]
    }
   ],
   "source": [
    "restoring_division()"
   ]
  }
 ],
 "metadata": {
  "interpreter": {
   "hash": "e94dd2023f21a93510fb04e380baf504272aa09c40641b7e8c2a7346f5fbf161"
  },
  "kernelspec": {
   "display_name": "Python 3.10.4 64-bit",
   "language": "python",
   "name": "python3"
  },
  "language_info": {
   "codemirror_mode": {
    "name": "ipython",
    "version": 3
   },
   "file_extension": ".py",
   "mimetype": "text/x-python",
   "name": "python",
   "nbconvert_exporter": "python",
   "pygments_lexer": "ipython3",
   "version": "3.10.4"
  },
  "orig_nbformat": 4
 },
 "nbformat": 4,
 "nbformat_minor": 2
}
