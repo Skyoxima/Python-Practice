{
 "cells": [
  {
   "cell_type": "markdown",
   "metadata": {},
   "source": [
    "<h1 align = center><b><span style = \"color: #f1a341\">First Fit</span><span style = \"color: lime\">, Best Fit</span><span style = \"color: tomato\">, Worst Fit</span> Memory Placement Strategies</b></h1>"
   ]
  },
  {
   "cell_type": "markdown",
   "metadata": {},
   "source": [
    "<h5>Each block of the main memory can have <u>multiple processes</u></h5>"
   ]
  },
  {
   "cell_type": "markdown",
   "metadata": {},
   "source": [
    "<h3>Take Input</h3>"
   ]
  },
  {
   "cell_type": "code",
   "execution_count": 30,
   "metadata": {},
   "outputs": [
    {
     "name": "stdout",
     "output_type": "stream",
     "text": [
      "[[150, [], 0, False], [350, [], 0, False]]\n",
      "[[300, False], [25, False], [125, False], [50, False]]\n"
     ]
    }
   ],
   "source": [
    "memory = [[int(i), [], 0, False] for i in input(\"Enter memory block sizes: \").split()]\n",
    "print(memory)\n",
    "\n",
    "processes = [[int(i), False] for i in input(\"Enter processes' sizes: \").split()]\n",
    "print(processes)"
   ]
  },
  {
   "cell_type": "markdown",
   "metadata": {},
   "source": [
    "<h3>First-Fit strategy</h3>"
   ]
  },
  {
   "cell_type": "code",
   "execution_count": 31,
   "metadata": {},
   "outputs": [],
   "source": [
    "for process in processes:\n",
    "    for block in memory:\n",
    "        if (block[0] >= process[0] and block[3] == False) or (block[2] >= process[0]):\n",
    "            block[1].append(process[0])                   #actually what is filled in the block\n",
    "            if block[3] == False:\n",
    "                block[2] = block[0] - process[0]             #what is the wastage\n",
    "            else:\n",
    "                block[2] -= process[0]\n",
    "            process[1] = True\n",
    "            block[3] = True                                        #status_check = True, this block cannot be used again?\n",
    "            break\n",
    "        "
   ]
  },
  {
   "cell_type": "code",
   "execution_count": 32,
   "metadata": {},
   "outputs": [
    {
     "name": "stdout",
     "output_type": "stream",
     "text": [
      "============================ Main Memory =============================\n",
      "Block No.\tBlock Size\tFilled Process\tInternal Fragmentation\n",
      "  1\t        \u001b[1;32m   150\t\t   25, 125\t\t    0\u001b[0m\n",
      "  2\t        \u001b[1;32m   350\t\t   300, 50\t\t    0\u001b[0m\n",
      "Total Internal Fragmentation incurred: \u001b[1;31m 0 kB\u001b[0m\n",
      "Total Wastage (Memory Loss): \u001b[1;31m 0 kB\u001b[0m\n",
      "Unassigned processes:  "
     ]
    }
   ],
   "source": [
    "def unpack(list1):\n",
    "    string = str()\n",
    "    for i in range(0, len(list1)): #to also manage with duplicates i.e if two same size blocks are there\n",
    "        if i != len(list1) - 1:\n",
    "            string += (str(list1[i]) + \", \")\n",
    "        else:\n",
    "            string += (str(list1[i]) + \"\")\n",
    "\n",
    "    return string\n",
    "\n",
    "print(\"============================ Main Memory =============================\\nBlock No.\\tBlock Size\\tFilled Process\\tInternal Fragmentation\")\n",
    "for block in memory:\n",
    "    if(block[3] == True):\n",
    "        print(\"  {}\\t        \\033[1;32m   {}\\t\\t   {}\\t\\t    {}\\033[0m\".format((memory.index(block) + 1), block[0], unpack(block[1]), block[2]))\n",
    "    elif(block[3] == -1 or block[3] == False):\n",
    "        print(\"  {}\\t        \\033[1;31m   {}\\t\\t   {}\\t\\t    {}\\033[0m\".format((memory.index(block) + 1), block[0], unpack(block[1]), block[2]))\n",
    "\n",
    "print(\"Total Internal Fragmentation incurred: \\033[1;31m\", sum(i[2] for i in memory), \"kB\\033[0m\")\n",
    "print(\"Total Wastage (Memory Loss): \\033[1;31m\", (sum(i[2] for i in memory) + sum([block[0] for block in memory if block[3] == False])), \"kB\\033[0m\")\n",
    "\n",
    "print(\"Unassigned processes: \", end = \" \")\n",
    "unassigned = [i for i in processes if i[1] == False]\n",
    "for i in unassigned:\n",
    "    print(\"\\033[1m\\033[38;5;225m\" + str(i[0]) + \" kB \\033[0m\", end = \" \")"
   ]
  },
  {
   "cell_type": "code",
   "execution_count": 33,
   "metadata": {},
   "outputs": [],
   "source": [
    "def reset(memory, processes):\n",
    "    for block in memory:\n",
    "        block[1] = []\n",
    "        block[2] = 0\n",
    "        block[3] = False\n",
    "    \n",
    "    for process in processes:\n",
    "        process[1] = False"
   ]
  },
  {
   "cell_type": "markdown",
   "metadata": {},
   "source": [
    "<h3 style = \"color: chartreuse;\">=-=-=-=-=-=-=-=-=-=-=-=-=-=-=-=-=-=-=-=-=-=-=-=-=-=-=-=-=-=-=-=-=-=-=-=-=-=-=-=-=-=-=-=-=-=-=-=-=-=-=<h3>"
   ]
  },
  {
   "cell_type": "markdown",
   "metadata": {},
   "source": [
    "<h3>Best-Fit Strategy</h3>"
   ]
  },
  {
   "cell_type": "code",
   "execution_count": 34,
   "metadata": {},
   "outputs": [],
   "source": [
    "reset(memory, processes)\n",
    "wastages = []\n",
    "\n",
    "for process in processes:\n",
    "    for block in memory:\n",
    "        if (block[0] >= process[0] and block[3] == False):\n",
    "            wastages.append(block[0] - process[0])\n",
    "        elif (block[2] >= process[0]):\n",
    "            wastages.append(block[2] - process[0])\n",
    "            \n",
    "    if len(wastages) != 0:    \n",
    "        least_waste = min(wastages)\n",
    "        for block in memory:\n",
    "            if (block[0] - process[0] == least_waste and block[3] == False) or (block[2] - process[0] == least_waste):\n",
    "                block[1].append(process[0])\n",
    "                if block[3] == False:              \n",
    "                    block[2] = block[0] - process[0]\n",
    "                else:\n",
    "                    block[2] -= process[0]        \n",
    "                block[3] = True                       \n",
    "                process[1] = True\n",
    "                break\n",
    "   \n",
    "    wastages = []\n",
    "\n",
    "for block in memory:\n",
    "    if(block[3] == False):\n",
    "        block[3] = -1"
   ]
  },
  {
   "cell_type": "code",
   "execution_count": 35,
   "metadata": {},
   "outputs": [
    {
     "name": "stdout",
     "output_type": "stream",
     "text": [
      "============================ Main Memory =============================\n",
      "Block No.\tBlock Size\tFilled Process\tInternal Fragmentation\n",
      "  1\t        \u001b[1;32m   150\t\t   125\t\t    25\u001b[0m\n",
      "  2\t        \u001b[1;32m   350\t\t   300, 25\t\t    25\u001b[0m\n",
      "Total Internal Fragmentation incurred: \u001b[1;31m 50 kB\u001b[0m\n",
      "Total Wastage (Memory Loss): \u001b[1;31m 50 kB\u001b[0m\n",
      "Unassigned processes:  \u001b[1m\u001b[38;5;225m50 kB \u001b[0m "
     ]
    }
   ],
   "source": [
    "def unpack(list1):\n",
    "    string = str()\n",
    "    for i in range(0, len(list1)): #to also manage with duplicates i.e if two same size blocks are there\n",
    "        if i != len(list1) - 1:\n",
    "            string += (str(list1[i]) + \", \")\n",
    "        else:\n",
    "            string += (str(list1[i]) + \"\")\n",
    "\n",
    "    return string\n",
    "\n",
    "print(\"============================ Main Memory =============================\\nBlock No.\\tBlock Size\\tFilled Process\\tInternal Fragmentation\")\n",
    "for block in memory:\n",
    "    if(block[3] == True):\n",
    "        print(\"  {}\\t        \\033[1;32m   {}\\t\\t   {}\\t\\t    {}\\033[0m\".format((memory.index(block) + 1), block[0], unpack(block[1]), block[2]))\n",
    "    elif(block[3] == -1 or block[3] == False):\n",
    "        print(\"  {}\\t        \\033[1;31m   {}\\t\\t   {}\\t\\t    {}\\033[0m\".format((memory.index(block) + 1), block[0], unpack(block[1]), block[2]))\n",
    "\n",
    "print(\"Total Internal Fragmentation incurred: \\033[1;31m\", sum(i[2] for i in memory), \"kB\\033[0m\")\n",
    "print(\"Total Wastage (Memory Loss): \\033[1;31m\", (sum(i[2] for i in memory) + sum([block[0] for block in memory if block[3] == False])), \"kB\\033[0m\")\n",
    "\n",
    "print(\"Unassigned processes: \", end = \" \")\n",
    "unassigned = [i for i in processes if i[1] == False]\n",
    "for i in unassigned:\n",
    "    print(\"\\033[1m\\033[38;5;225m\" + str(i[0]) + \" kB \\033[0m\", end = \" \")"
   ]
  },
  {
   "cell_type": "markdown",
   "metadata": {},
   "source": [
    "<h3 style = \"color: chartreuse;\">=-=-=-=-=-=-=-=-=-=-=-=-=-=-=-=-=-=-=-=-=-=-=-=-=-=-=-=-=-=-=-=-=-=-=-=-=-=-=-=-=-=-=-=-=-=-=-=-=-=-=<h3>"
   ]
  },
  {
   "cell_type": "markdown",
   "metadata": {},
   "source": [
    "<h3>Worst-Fit Strategy</h3>"
   ]
  },
  {
   "cell_type": "code",
   "execution_count": 36,
   "metadata": {},
   "outputs": [],
   "source": [
    "reset(memory, processes)\n",
    "wastages = []\n",
    "\n",
    "for process in processes:\n",
    "    for block in memory:\n",
    "        if (block[0] >= process[0] and block[3] == False):\n",
    "            wastages.append(block[0] - process[0])\n",
    "        elif (block[2] >= process[0]):\n",
    "            wastages.append(block[2] - process[0])\n",
    "            \n",
    "    if len(wastages) != 0:    \n",
    "        max_waste = max(wastages)\n",
    "        for block in memory:\n",
    "            if (block[0] - process[0] == max_waste and block[3] == False) or (block[2] - process[0] == max_waste):\n",
    "                block[1].append(process[0])\n",
    "                if block[3] == False:              \n",
    "                    block[2] = block[0] - process[0]\n",
    "                else:\n",
    "                    block[2] -= process[0]        \n",
    "                block[3] = True                       \n",
    "                process[1] = True\n",
    "                break\n",
    "   \n",
    "    wastages = []\n",
    "\n",
    "for block in memory:\n",
    "    if(block[3] == False):\n",
    "        block[3] = -1"
   ]
  },
  {
   "cell_type": "code",
   "execution_count": 37,
   "metadata": {},
   "outputs": [
    {
     "name": "stdout",
     "output_type": "stream",
     "text": [
      "============================ Main Memory =============================\n",
      "Block No.\tBlock Size\tFilled Process\tInternal Fragmentation\n",
      "  1\t        \u001b[1;32m   150\t\t   25, 125\t\t    0\u001b[0m\n",
      "  2\t        \u001b[1;32m   350\t\t   300, 50\t\t    0\u001b[0m\n",
      "Total Internal Fragmentation incurred: \u001b[1;31m 0 kB\u001b[0m\n",
      "Total Wastage (Memory Loss): \u001b[1;31m 0 kB\u001b[0m\n",
      "Unassigned processes:  "
     ]
    }
   ],
   "source": [
    "def unpack(list1):\n",
    "    string = str()\n",
    "    for i in range(0, len(list1)): #to also manage with duplicates i.e if two same size blocks are there\n",
    "        if i != len(list1) - 1:\n",
    "            string += (str(list1[i]) + \", \")\n",
    "        else:\n",
    "            string += (str(list1[i]) + \"\")\n",
    "\n",
    "    return string\n",
    "\n",
    "print(\"============================ Main Memory =============================\\nBlock No.\\tBlock Size\\tFilled Process\\tInternal Fragmentation\")\n",
    "for block in memory:\n",
    "    if(block[3] == True):\n",
    "        print(\"  {}\\t        \\033[1;32m   {}\\t\\t   {}\\t\\t    {}\\033[0m\".format((memory.index(block) + 1), block[0], unpack(block[1]), block[2]))\n",
    "    elif(block[3] == -1 or block[3] == False):\n",
    "        print(\"  {}\\t        \\033[1;31m   {}\\t\\t   {}\\t\\t    {}\\033[0m\".format((memory.index(block) + 1), block[0], unpack(block[1]), block[2]))\n",
    "\n",
    "print(\"Total Internal Fragmentation incurred: \\033[1;31m\", sum(i[2] for i in memory), \"kB\\033[0m\")\n",
    "print(\"Total Wastage (Memory Loss): \\033[1;31m\", (sum(i[2] for i in memory) + sum([block[0] for block in memory if block[3] == False])), \"kB\\033[0m\")\n",
    "\n",
    "print(\"Unassigned processes: \", end = \" \")\n",
    "unassigned = [i for i in processes if i[1] == False]\n",
    "for i in unassigned:\n",
    "    print(\"\\033[1m\\033[38;5;225m\" + str(i[0]) + \" kB \\033[0m\", end = \" \")"
   ]
  }
 ],
 "metadata": {
  "interpreter": {
   "hash": "78f5b707d86fd9281530b9fa2dbdbe1b33232c3b651a8e052360c651d4996094"
  },
  "kernelspec": {
   "display_name": "Python 3.10.4 64-bit",
   "language": "python",
   "name": "python3"
  },
  "language_info": {
   "codemirror_mode": {
    "name": "ipython",
    "version": 3
   },
   "file_extension": ".py",
   "mimetype": "text/x-python",
   "name": "python",
   "nbconvert_exporter": "python",
   "pygments_lexer": "ipython3",
   "version": "3.10.4"
  },
  "orig_nbformat": 4
 },
 "nbformat": 4,
 "nbformat_minor": 2
}
