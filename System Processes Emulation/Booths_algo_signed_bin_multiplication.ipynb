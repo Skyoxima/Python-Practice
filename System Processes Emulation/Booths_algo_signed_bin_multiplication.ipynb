{
 "cells": [
  {
   "cell_type": "markdown",
   "metadata": {},
   "source": [
    "<h1 align = center><b>Booth's Algorithm <br>for Signed Binary Multiplication</b></h1>"
   ]
  },
  {
   "cell_type": "markdown",
   "metadata": {},
   "source": [
    "<h3>Importing necessary modules</h3>"
   ]
  },
  {
   "cell_type": "code",
   "execution_count": 27,
   "metadata": {},
   "outputs": [],
   "source": [
    "from prettytable import PrettyTable"
   ]
  },
  {
   "cell_type": "markdown",
   "metadata": {},
   "source": [
    "<h3>Taking Input</h3>"
   ]
  },
  {
   "cell_type": "code",
   "execution_count": 28,
   "metadata": {},
   "outputs": [],
   "source": [
    "def take_input():\n",
    "    mcand = int(input(\"Enter the Multiplicand: \"))\n",
    "    mlier = int(input(\"Enter the Multiplier: \"))\n",
    "\n",
    "    return mcand, mlier"
   ]
  },
  {
   "cell_type": "markdown",
   "metadata": {},
   "source": [
    "<h3>Decimal to Binary Converter</h3>"
   ]
  },
  {
   "cell_type": "code",
   "execution_count": 29,
   "metadata": {},
   "outputs": [],
   "source": [
    "def to_binary(*dec_number):\n",
    "    bin_master_list = []\n",
    "    def mechanism(dec_number):\n",
    "        if(dec_number >= 1):\n",
    "            mechanism(dec_number // 2)\n",
    "            bin_num.append(dec_number % 2)\n",
    "        \n",
    "    for i in dec_number:\n",
    "        bin_num = []\n",
    "        mechanism(i)\n",
    "        bin_master_list.append(bin_num)\n",
    "\n",
    "    return bin_master_list   "
   ]
  },
  {
   "cell_type": "markdown",
   "metadata": {},
   "source": [
    "<h3>Dynamic Bit Adjuster</h3>"
   ]
  },
  {
   "cell_type": "code",
   "execution_count": 30,
   "metadata": {},
   "outputs": [],
   "source": [
    "def dynamic_bit_adjuster(list1, list2):\n",
    "    l1 = len(list1)\n",
    "    l2 = len(list2)\n",
    "\n",
    "    if(l1 != l2):\n",
    "        if(l1 > l2):\n",
    "            list1.insert(0, 0)\n",
    "            for i in range(l2, l1 + 1):\n",
    "                list2.insert(0, 0)\n",
    "        \n",
    "        elif(l2 > l1):\n",
    "            list2.insert(0, 0)\n",
    "            for i in range(l1, l2 + 1):\n",
    "                list1.insert(0, 0)\n",
    "    else:\n",
    "        list1.insert(0, 0)\n",
    "        list2.insert(0, 0)"
   ]
  },
  {
   "cell_type": "markdown",
   "metadata": {},
   "source": [
    "<h3>One's Complementer</h3>"
   ]
  },
  {
   "cell_type": "code",
   "execution_count": 31,
   "metadata": {},
   "outputs": [],
   "source": [
    "def ones_complement(binary_num_list):\n",
    "    for i in range(0, len(binary_num_list)):\n",
    "        if binary_num_list[i] == 0:\n",
    "            binary_num_list[i] = 1\n",
    "        else:\n",
    "            binary_num_list[i] = 0"
   ]
  },
  {
   "cell_type": "markdown",
   "metadata": {},
   "source": [
    "<h3>Binary Additioner</h3>"
   ]
  },
  {
   "cell_type": "code",
   "execution_count": 32,
   "metadata": {},
   "outputs": [],
   "source": [
    "def binary_add(list1, list2):\n",
    "    carry = 0\n",
    "\n",
    "    for i in range(len(list1) - 1, -1, -1): #reverse traversal\n",
    "        if(carry == 0):\n",
    "            if(list1[i] == 0 and list2[i] == 0):\n",
    "                list1[i] = 0\n",
    "            elif(list1[i] == 0 and list2[i] == 1):\n",
    "                list1[i] = 1\n",
    "            elif(list1[i] == 1 and list2[i] == 0):\n",
    "                list1[i] = 1\n",
    "            elif(list1[i] == 1 and list2[i] == 1):\n",
    "                list1[i] = 0\n",
    "                carry = 1   #! Quite important\n",
    "                \n",
    "        elif(carry == 1):\n",
    "            if(list1[i] == 0 and list2[i] == 0):\n",
    "                list1[i] = 1\n",
    "                carry = 0\n",
    "\n",
    "            elif(list1[i] == 0 and list2[i] == 1):\n",
    "                list1[i] = 0\n",
    "                carry = 1\n",
    "\n",
    "            elif(list1[i] == 1 and list2[i] == 0):\n",
    "                list1[i] = 0\n",
    "                carry = 1\n",
    "\n",
    "            elif(list1[1] == 1 and list2[i] == 1):\n",
    "                list1[i] = 1\n",
    "                carry = 1 #! Quite important"
   ]
  },
  {
   "cell_type": "markdown",
   "metadata": {},
   "source": [
    "<h3>Two's Complementer</h3>"
   ]
  },
  {
   "cell_type": "code",
   "execution_count": 33,
   "metadata": {},
   "outputs": [],
   "source": [
    "def twos_complement(list1):\n",
    "    one = [1]\n",
    "    for i in range(0, len(list1)-1):\n",
    "        one.insert(0, 0)\n",
    "    \n",
    "    ones_complement(list1)\n",
    "    binary_add(list1, one)"
   ]
  },
  {
   "cell_type": "markdown",
   "metadata": {},
   "source": [
    "<h3>Arithmetic Right Shifter</h3>"
   ]
  },
  {
   "cell_type": "code",
   "execution_count": 34,
   "metadata": {},
   "outputs": [],
   "source": [
    "#this will function properly only when both lists have equal lengths\n",
    "def ar_right_shift(list1, list2):\n",
    "    temp_bit1 = list1[-1]\n",
    "    temp_bit2 = list2[-1] #last bits\n",
    "    temp_copy1 = list1.copy()\n",
    "    temp_copy2 = list2.copy()\n",
    "\n",
    "    for i in range(1, len(list1)):\n",
    "        list1[i] = temp_copy1[i - 1]\n",
    "        list2[i] = temp_copy2[i - 1]\n",
    "    list2[0] = temp_bit1\n",
    "\n",
    "    return temp_bit2"
   ]
  },
  {
   "cell_type": "markdown",
   "metadata": {},
   "source": [
    "<h3>List to String Converter</h3>"
   ]
  },
  {
   "cell_type": "code",
   "execution_count": 35,
   "metadata": {},
   "outputs": [],
   "source": [
    "def list_to_string(list1):\n",
    "    string = \"\"\n",
    "    for i in list1:\n",
    "        string += str(i)\n",
    "    \n",
    "    return string"
   ]
  },
  {
   "cell_type": "markdown",
   "metadata": {},
   "source": [
    "<h3>Binary to Decimal Converter</h3>"
   ]
  },
  {
   "cell_type": "code",
   "execution_count": 36,
   "metadata": {},
   "outputs": [],
   "source": [
    "def to_decimal(list1, list2, dec_mcand, dec_mlier):\n",
    "    list3 = list1 + list2\n",
    "    expo = 0\n",
    "    summation = 0\n",
    "    \n",
    "    if((dec_mcand < 0 and dec_mlier > 0) or (dec_mlier < 0 and dec_mcand > 0)):\n",
    "        twos_complement(list3)\n",
    "        \n",
    "\n",
    "    for i in range(len(list3)-1, -1, -1): #reverse traversal\n",
    "        if(list3[i] == 1):\n",
    "            summation += 2**(expo)\n",
    "        expo += 1\n",
    "    \n",
    "    return summation"
   ]
  },
  {
   "cell_type": "markdown",
   "metadata": {},
   "source": [
    "<h3>Main 'Booth's Algorithm' Function</h3>"
   ]
  },
  {
   "cell_type": "code",
   "execution_count": 37,
   "metadata": {},
   "outputs": [],
   "source": [
    "def Booths_Algorithm():\n",
    "    #taking input\n",
    "    dec_mcand, dec_mlier = take_input()\n",
    "    \n",
    "    #check for input 0, program does work without this but better to have it not waste computation time if these are the inputs\n",
    "    if dec_mcand == 0 or dec_mlier == 0:\n",
    "        print(\"Final Answer:\\n{} x {} = {}\".format(dec_mcand, dec_mlier, 0))\n",
    "        return\n",
    "\n",
    "    #check for input 1 \n",
    "    if dec_mcand == 1:\n",
    "        print(\"Final Answer:\\n{} x {} = {}\".format(dec_mcand, dec_mlier, dec_mlier))\n",
    "        return\n",
    "    elif dec_mlier == 1:\n",
    "        print(\"Final Answer:\\n{} x {} = {}\".format(dec_mcand, dec_mlier, dec_mcand))\n",
    "        return\n",
    "\n",
    "    #coversion from decimal to binary for both inputs\n",
    "    bin_nums = to_binary(abs(dec_mcand), abs(dec_mlier))\n",
    "    bin_mcand = bin_nums[0]  \n",
    "    bin_mlier = bin_nums[1] \n",
    "    \n",
    "    #adjusting bits for both multiplicand and multiplier\n",
    "    dynamic_bit_adjuster(bin_mcand, bin_mlier)\n",
    "\n",
    "    #taking two's complement if negative\n",
    "    if(dec_mcand < 0):\n",
    "        twos_complement(bin_mcand)\n",
    "    if(dec_mlier < 0):\n",
    "        twos_complement(bin_mlier)\n",
    "    \n",
    "    #preparation for the main algorithm\n",
    "    A = [0 for i in range (0, len(bin_mcand))]\n",
    "    Q = bin_mlier.copy()\n",
    "    M = bin_mcand.copy()\n",
    "    twos_complement(bin_mcand)      #this WILL change bin_mcand because of pass by reference\n",
    "    m_M = bin_mcand.copy()\n",
    "    Qm1 = 0                         #Q_minus_1 bit\n",
    "    count = len(bin_mcand)\n",
    "    table = PrettyTable([\"A\", \"Q\", \"Q_-1\", 'M', \"Count\", \"Operation\"])\n",
    "    final_table = [[list_to_string(A), list_to_string(Q), Qm1, list_to_string(M), count, \"Start\"]]\n",
    "    \n",
    "    #logic/steps of the algorithm\n",
    "    while(count > 0):\n",
    "        if(Q[-1] == 1 and Qm1 == 0):\n",
    "            binary_add(A, m_M)\n",
    "            final_table.append([list_to_string(A), list_to_string(Q), Qm1, list_to_string(M), count, \"A = A - M\"]) #have to convert to string to mitigate reference assignment of modified list\n",
    "\n",
    "        elif(Q[-1] == 0 and Qm1 == 1):\n",
    "            binary_add(A, M)\n",
    "            final_table.append([list_to_string(A), list_to_string(Q), Qm1, list_to_string(M), count, \"A = A + M\"])\n",
    "\n",
    "        Qm1 = ar_right_shift(A, Q)\n",
    "        final_table.append([list_to_string(A), list_to_string(Q), Qm1, list_to_string(M), count, \"Arithmetic Right Shift\"])\n",
    "        count -= 1\n",
    "    \n",
    "    #printing the Operations table\n",
    "    final_table.append(['', '', '', '', '', \"Finish\"])\n",
    "    table.add_rows(final_table)\n",
    "    print(table)\n",
    "\n",
    "    #printing the final answer\n",
    "    f_a = to_decimal(A, Q, dec_mcand, dec_mlier)\n",
    "    if((dec_mcand < 0 and dec_mlier > 0) or (dec_mlier < 0 and dec_mcand > 0)): \n",
    "        print(\"\\nFinal Answer:\\n{} x {} = -{}\".format(dec_mcand, dec_mlier, f_a))\n",
    "    else:\n",
    "        print(\"\\nFinal Answer:\\n{} x {} = {}\".format(dec_mcand, dec_mlier, f_a))"
   ]
  },
  {
   "cell_type": "markdown",
   "metadata": {},
   "source": [
    "<h3>Callers</h3>"
   ]
  },
  {
   "cell_type": "code",
   "execution_count": 38,
   "metadata": {},
   "outputs": [
    {
     "name": "stdout",
     "output_type": "stream",
     "text": [
      "+--------+--------+------+--------+-------+------------------------+\n",
      "|   A    |   Q    | Q_-1 |   M    | Count |       Operation        |\n",
      "+--------+--------+------+--------+-------+------------------------+\n",
      "| 000000 | 111011 |  0   | 010001 |   6   |         Start          |\n",
      "| 101111 | 111011 |  0   | 010001 |   6   |       A = A - M        |\n",
      "| 110111 | 111101 |  1   | 010001 |   6   | Arithmetic Right Shift |\n",
      "| 111011 | 111110 |  1   | 010001 |   5   | Arithmetic Right Shift |\n",
      "| 001100 | 111110 |  1   | 010001 |   4   |       A = A + M        |\n",
      "| 000110 | 011111 |  0   | 010001 |   4   | Arithmetic Right Shift |\n",
      "| 110101 | 011111 |  0   | 010001 |   3   |       A = A - M        |\n",
      "| 111010 | 101111 |  1   | 010001 |   3   | Arithmetic Right Shift |\n",
      "| 111101 | 010111 |  1   | 010001 |   2   | Arithmetic Right Shift |\n",
      "| 111110 | 101011 |  1   | 010001 |   1   | Arithmetic Right Shift |\n",
      "|        |        |      |        |       |         Finish         |\n",
      "+--------+--------+------+--------+-------+------------------------+\n",
      "\n",
      "Final Answer:\n",
      "17 x -5 = -85\n"
     ]
    }
   ],
   "source": [
    "Booths_Algorithm()"
   ]
  },
  {
   "cell_type": "code",
   "execution_count": 39,
   "metadata": {},
   "outputs": [
    {
     "name": "stdout",
     "output_type": "stream",
     "text": [
      "+--------+--------+------+--------+-------+------------------------+\n",
      "|   A    |   Q    | Q_-1 |   M    | Count |       Operation        |\n",
      "+--------+--------+------+--------+-------+------------------------+\n",
      "| 000000 | 010001 |  0   | 111011 |   6   |         Start          |\n",
      "| 000101 | 010001 |  0   | 111011 |   6   |       A = A - M        |\n",
      "| 000010 | 101000 |  1   | 111011 |   6   | Arithmetic Right Shift |\n",
      "| 111101 | 101000 |  1   | 111011 |   5   |       A = A + M        |\n",
      "| 111110 | 110100 |  0   | 111011 |   5   | Arithmetic Right Shift |\n",
      "| 111111 | 011010 |  0   | 111011 |   4   | Arithmetic Right Shift |\n",
      "| 111111 | 101101 |  0   | 111011 |   3   | Arithmetic Right Shift |\n",
      "| 000100 | 101101 |  0   | 111011 |   2   |       A = A - M        |\n",
      "| 000010 | 010110 |  1   | 111011 |   2   | Arithmetic Right Shift |\n",
      "| 111101 | 010110 |  1   | 111011 |   1   |       A = A + M        |\n",
      "| 111110 | 101011 |  0   | 111011 |   1   | Arithmetic Right Shift |\n",
      "|        |        |      |        |       |         Finish         |\n",
      "+--------+--------+------+--------+-------+------------------------+\n",
      "\n",
      "Final Answer:\n",
      "-5 x 17 = -85\n"
     ]
    }
   ],
   "source": [
    "Booths_Algorithm()"
   ]
  },
  {
   "cell_type": "code",
   "execution_count": 40,
   "metadata": {},
   "outputs": [
    {
     "name": "stdout",
     "output_type": "stream",
     "text": [
      "+--------+--------+------+--------+-------+------------------------+\n",
      "|   A    |   Q    | Q_-1 |   M    | Count |       Operation        |\n",
      "+--------+--------+------+--------+-------+------------------------+\n",
      "| 000000 | 010001 |  0   | 000101 |   6   |         Start          |\n",
      "| 111011 | 010001 |  0   | 000101 |   6   |       A = A - M        |\n",
      "| 111101 | 101000 |  1   | 000101 |   6   | Arithmetic Right Shift |\n",
      "| 000010 | 101000 |  1   | 000101 |   5   |       A = A + M        |\n",
      "| 000001 | 010100 |  0   | 000101 |   5   | Arithmetic Right Shift |\n",
      "| 000000 | 101010 |  0   | 000101 |   4   | Arithmetic Right Shift |\n",
      "| 000000 | 010101 |  0   | 000101 |   3   | Arithmetic Right Shift |\n",
      "| 111011 | 010101 |  0   | 000101 |   2   |       A = A - M        |\n",
      "| 111101 | 101010 |  1   | 000101 |   2   | Arithmetic Right Shift |\n",
      "| 000010 | 101010 |  1   | 000101 |   1   |       A = A + M        |\n",
      "| 000001 | 010101 |  0   | 000101 |   1   | Arithmetic Right Shift |\n",
      "|        |        |      |        |       |         Finish         |\n",
      "+--------+--------+------+--------+-------+------------------------+\n",
      "\n",
      "Final Answer:\n",
      "5 x 17 = 85\n"
     ]
    }
   ],
   "source": [
    "Booths_Algorithm()"
   ]
  },
  {
   "cell_type": "code",
   "execution_count": 41,
   "metadata": {},
   "outputs": [
    {
     "name": "stdout",
     "output_type": "stream",
     "text": [
      "+--------+--------+------+--------+-------+------------------------+\n",
      "|   A    |   Q    | Q_-1 |   M    | Count |       Operation        |\n",
      "+--------+--------+------+--------+-------+------------------------+\n",
      "| 000000 | 000101 |  0   | 010001 |   6   |         Start          |\n",
      "| 101111 | 000101 |  0   | 010001 |   6   |       A = A - M        |\n",
      "| 110111 | 100010 |  1   | 010001 |   6   | Arithmetic Right Shift |\n",
      "| 001000 | 100010 |  1   | 010001 |   5   |       A = A + M        |\n",
      "| 000100 | 010001 |  0   | 010001 |   5   | Arithmetic Right Shift |\n",
      "| 110011 | 010001 |  0   | 010001 |   4   |       A = A - M        |\n",
      "| 111001 | 101000 |  1   | 010001 |   4   | Arithmetic Right Shift |\n",
      "| 001010 | 101000 |  1   | 010001 |   3   |       A = A + M        |\n",
      "| 000101 | 010100 |  0   | 010001 |   3   | Arithmetic Right Shift |\n",
      "| 000010 | 101010 |  0   | 010001 |   2   | Arithmetic Right Shift |\n",
      "| 000001 | 010101 |  0   | 010001 |   1   | Arithmetic Right Shift |\n",
      "|        |        |      |        |       |         Finish         |\n",
      "+--------+--------+------+--------+-------+------------------------+\n",
      "\n",
      "Final Answer:\n",
      "17 x 5 = 85\n"
     ]
    }
   ],
   "source": [
    "Booths_Algorithm()"
   ]
  },
  {
   "cell_type": "code",
   "execution_count": 42,
   "metadata": {},
   "outputs": [
    {
     "name": "stdout",
     "output_type": "stream",
     "text": [
      "Final Answer:\n",
      "0 x 9 = 0\n"
     ]
    }
   ],
   "source": [
    "Booths_Algorithm()"
   ]
  }
 ],
 "metadata": {
  "kernelspec": {
   "display_name": "Python 3.10.4 64-bit",
   "language": "python",
   "name": "python3"
  },
  "language_info": {
   "codemirror_mode": {
    "name": "ipython",
    "version": 3
   },
   "file_extension": ".py",
   "mimetype": "text/x-python",
   "name": "python",
   "nbconvert_exporter": "python",
   "pygments_lexer": "ipython3",
   "version": "3.10.4"
  },
  "orig_nbformat": 4,
  "vscode": {
   "interpreter": {
    "hash": "78f5b707d86fd9281530b9fa2dbdbe1b33232c3b651a8e052360c651d4996094"
   }
  }
 },
 "nbformat": 4,
 "nbformat_minor": 2
}
